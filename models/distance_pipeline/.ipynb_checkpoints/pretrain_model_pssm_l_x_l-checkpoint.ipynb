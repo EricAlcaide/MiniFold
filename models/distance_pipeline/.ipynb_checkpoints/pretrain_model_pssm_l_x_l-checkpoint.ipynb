{
 "cells": [
  {
   "cell_type": "code",
   "execution_count": 1,
   "metadata": {},
   "outputs": [
    {
     "name": "stderr",
     "output_type": "stream",
     "text": [
      "Using TensorFlow backend.\n"
     ]
    }
   ],
   "source": [
    "# Import libraries\n",
    "import numpy as np\n",
    "import matplotlib.pyplot as plt\n",
    "# Import libraries\n",
    "import keras\n",
    "import keras.backend as K\n",
    "from keras.models import Model\n",
    "# Activation and Regularization\n",
    "from keras.regularizers import l2\n",
    "from keras.activations import softmax\n",
    "# Keras layers\n",
    "from keras.layers.convolutional import Conv2D, Conv2DTranspose\n",
    "from keras.layers import Dense, Dropout, Flatten, Input, BatchNormalization, Activation\n",
    "from keras.layers.pooling import MaxPooling2D, AveragePooling2D\n",
    "\n",
    "# Model architecture\n",
    "from elu_resnet_2d_distances import *"
   ]
  },
  {
   "cell_type": "markdown",
   "metadata": {},
   "source": [
    "# Loading the Dataset"
   ]
  },
  {
   "cell_type": "code",
   "execution_count": 2,
   "metadata": {},
   "outputs": [],
   "source": [
    "def parse_lines(raw):\n",
    "    return [[float(x) for x in line.split(\"\\t\") if x != \"\"] for line in raw]\n",
    "\n",
    "def parse_line(line):\n",
    "    return [float(x) for x in line.split(\"\\t\") if x != \"\"]"
   ]
  },
  {
   "cell_type": "code",
   "execution_count": 3,
   "metadata": {},
   "outputs": [],
   "source": [
    "path = \"../../data/distanced/70_full_under_200.txt\"\n",
    "# Opn file and read text\n",
    "with open(path, \"r\") as f:\n",
    "    lines = f.read().split('\\n')"
   ]
  },
  {
   "cell_type": "code",
   "execution_count": 4,
   "metadata": {},
   "outputs": [
    {
     "name": "stdout",
     "output_type": "stream",
     "text": [
      "Currently @  50  out of n (500)\n",
      "Currently @  100  out of n (500)\n"
     ]
    }
   ],
   "source": [
    "# Scan first n proteins\n",
    "names = []\n",
    "seqs = []\n",
    "dists = []\n",
    "pssms = []\n",
    "\n",
    "# Extract numeric data from text\n",
    "for i,line in enumerate(lines):\n",
    "    if len(names) == 111:\n",
    "        break\n",
    "    # Read each protein separately\n",
    "    if line == \"[ID]\":\n",
    "        names.append(lines[i+1])\n",
    "    elif line == \"[PRIMARY]\":\n",
    "        seqs.append(lines[i+1])\n",
    "    elif line == \"[EVOLUTIONARY]\":\n",
    "        pssms.append(parse_lines(lines[i+1:i+21]))\n",
    "    elif line == \"[DIST]\":\n",
    "        dists.append(parse_lines(lines[i+1:i+len(seqs[-1])+1]))\n",
    "        # Progress control\n",
    "        if len(names)%50 == 0:\n",
    "            print(\"Currently @ \", len(names), \" out of n (500)\")"
   ]
  },
  {
   "cell_type": "code",
   "execution_count": 5,
   "metadata": {},
   "outputs": [],
   "source": [
    "def wider(seq, l=200, n=20):\n",
    "    \"\"\" Converts a seq into a one-hot tensor. Not LxN but LxLxN\"\"\"\n",
    "    key = \"HRKDENQSYTCPAVLIGFWM\"\n",
    "    tensor = []\n",
    "    for i in range(l):\n",
    "        d2 = []\n",
    "        for j in range(l):\n",
    "            d1 = [1 if (j<len(seq) and i<len(seq) and key[x] == seq[i] and key[x] == seq[j]) else 0 for x in range(n)]\n",
    "    \n",
    "            d2.append(d1)\n",
    "        tensor.append(d2)\n",
    "    \n",
    "    return np.array(tensor)"
   ]
  },
  {
   "cell_type": "code",
   "execution_count": 6,
   "metadata": {},
   "outputs": [],
   "source": [
    "inputs_aa = np.array([wider(seq) for seq in seqs])"
   ]
  },
  {
   "cell_type": "code",
   "execution_count": 7,
   "metadata": {},
   "outputs": [
    {
     "data": {
      "text/plain": [
       "(110, 200, 200, 20)"
      ]
     },
     "execution_count": 7,
     "metadata": {},
     "output_type": "execute_result"
    }
   ],
   "source": [
    "inputs_aa.shape"
   ]
  },
  {
   "cell_type": "code",
   "execution_count": 8,
   "metadata": {},
   "outputs": [],
   "source": [
    "def wider_pssm(pssm, seq, l=200, n=20):\n",
    "    \"\"\" Converts a seq into a one-hot tensor. Not LxN but LxLxN\"\"\"\n",
    "    key = \"HRKDENQSYTCPAVLIGFWM\"\n",
    "    key_alpha = \"ACDEFGHIKLMNPQRSTVWY\"\n",
    "    tensor = []\n",
    "    for i in range(l):\n",
    "        d2 = []\n",
    "        for j in range(l):\n",
    "            if j<len(seq) and i<len(seq):\n",
    "                d1 = [(aa[i]+aa[j])/2 for aa in pssm]\n",
    "            else:\n",
    "                d1 = [0 for i in range(n)]\n",
    "                \n",
    "            # Append pssm[i]*pssm[j]\n",
    "            if j<len(seq) and i<len(seq):\n",
    "                d1.append(pssm[key_alpha.index(seq[i])][i] *\n",
    "                          pssm[key_alpha.index(seq[j])][j])\n",
    "            else: \n",
    "                d1.append(0)\n",
    "            # Append custom distance to diagonal\n",
    "            d1.append(1 - abs(i-j)/200)\n",
    "    \n",
    "            d2.append(d1)\n",
    "        tensor.append(d2)\n",
    "    \n",
    "    return np.array(tensor)"
   ]
  },
  {
   "cell_type": "code",
   "execution_count": 9,
   "metadata": {},
   "outputs": [],
   "source": [
    "inputs_pssm = np.array([wider_pssm(pssms[i], seqs[i]) for i in range(len(pssms))])"
   ]
  },
  {
   "cell_type": "code",
   "execution_count": 10,
   "metadata": {},
   "outputs": [
    {
     "data": {
      "text/plain": [
       "(110, 200, 200, 21)"
      ]
     },
     "execution_count": 10,
     "metadata": {},
     "output_type": "execute_result"
    }
   ],
   "source": [
    "inputs_pssm.shape"
   ]
  },
  {
   "cell_type": "code",
   "execution_count": 11,
   "metadata": {},
   "outputs": [],
   "source": [
    "inputs = np.concatenate((inputs_aa, inputs_pssm), axis=3)\n",
    "inputs.shape\n",
    "# Delete unnecessary data\n",
    "del inputs_pssm #  = inputs_pssm[:10]\n",
    "del inputs_aa #  = inputs_aa[:10]"
   ]
  },
  {
   "cell_type": "code",
   "execution_count": 12,
   "metadata": {},
   "outputs": [],
   "source": [
    "# Embed number of rows\n",
    "def embedding_matrix(matrix, l=200):\n",
    "    # Embed with extra columns\n",
    "    for i in range(len(matrix)):\n",
    "        while len(matrix[i])<l:\n",
    "            matrix[i].extend([-1 for i in range(l-len(matrix[i]))])\n",
    "    #Embed with extra rows\n",
    "    while len(matrix)<l:\n",
    "        matrix.append([-1 for x in range(l)])\n",
    "    return np.array(matrix)"
   ]
  },
  {
   "cell_type": "code",
   "execution_count": 13,
   "metadata": {},
   "outputs": [],
   "source": [
    "dists = np.array([embedding_matrix(matrix) for matrix in dists])"
   ]
  },
  {
   "cell_type": "code",
   "execution_count": 14,
   "metadata": {},
   "outputs": [],
   "source": [
    "def treshold(matrix, cuts=[-0.5, 500, 750, 1000, 1400, 1700, 2000], l=200):\n",
    "    # Turns an L*L*1 tensor into an L*L*N \n",
    "    trash = (np.array(matrix)<cuts[0]).astype(np.int)\n",
    "    first = (np.array(matrix)<cuts[1]).astype(np.int)-trash\n",
    "    sec = (np.array(matrix)<cuts[2]).astype(np.int)-trash-first\n",
    "    third = (np.array(matrix)<=cuts[3]).astype(np.int)-trash-first-sec\n",
    "    fourth = (np.array(matrix)<=cuts[4]).astype(np.int)-trash-first-sec-third\n",
    "    fifth = (np.array(matrix)<=cuts[5]).astype(np.int)-trash-first-sec-third-fourth\n",
    "    sixth = np.array(matrix)>cuts[5]\n",
    "    \n",
    "    return np.concatenate((trash.reshape(l,l,1),\n",
    "                           first.reshape(l,l,1),\n",
    "                           sec.reshape(l,l,1),\n",
    "                           third.reshape(l,l,1),\n",
    "                           fourth.reshape(l,l,1),\n",
    "                           fifth.reshape(l,l,1),\n",
    "                           sixth.reshape(l,l,1)),axis=2)"
   ]
  },
  {
   "cell_type": "code",
   "execution_count": 15,
   "metadata": {},
   "outputs": [],
   "source": [
    "outputs = np.array([treshold(d) for d in dists])"
   ]
  },
  {
   "cell_type": "code",
   "execution_count": 16,
   "metadata": {},
   "outputs": [
    {
     "name": "stdout",
     "output_type": "stream",
     "text": [
      "(110, 200, 200, 7)\n"
     ]
    }
   ],
   "source": [
    "print(outputs.shape)\n",
    "del dists"
   ]
  },
  {
   "cell_type": "markdown",
   "metadata": {},
   "source": [
    "# Loading the model"
   ]
  },
  {
   "cell_type": "code",
   "execution_count": 17,
   "metadata": {},
   "outputs": [],
   "source": [
    "kernel_size, filters = 3, 16\n",
    "adam = keras.optimizers.Adam(lr=0.001, beta_1=0.9, beta_2=0.999, epsilon=None, decay=0.0, amsgrad=True)"
   ]
  },
  {
   "cell_type": "code",
   "execution_count": 18,
   "metadata": {},
   "outputs": [],
   "source": [
    "# Using AMSGrad optimizer for speed \n",
    "kernel_size, filters = 3, 16\n",
    "adam = keras.optimizers.Adam(amsgrad=True)\n",
    "# Create model\n",
    "model = resnet_v2(input_shape=(200,200, 42), depth=28, num_classes=7)"
   ]
  },
  {
   "cell_type": "code",
   "execution_count": 19,
   "metadata": {
    "scrolled": true
   },
   "outputs": [
    {
     "name": "stdout",
     "output_type": "stream",
     "text": [
      "__________________________________________________________________________________________________\n",
      "Layer (type)                    Output Shape         Param #     Connected to                     \n",
      "==================================================================================================\n",
      "input_1 (InputLayer)            (None, 200, 200, 41) 0                                            \n",
      "__________________________________________________________________________________________________\n",
      "conv2d_1 (Conv2D)               (None, 200, 200, 64) 23680       input_1[0][0]                    \n",
      "__________________________________________________________________________________________________\n",
      "batch_normalization_1 (BatchNor (None, 200, 200, 64) 256         conv2d_1[0][0]                   \n",
      "__________________________________________________________________________________________________\n",
      "activation_1 (Activation)       (None, 200, 200, 64) 0           batch_normalization_1[0][0]      \n",
      "__________________________________________________________________________________________________\n",
      "batch_normalization_2 (BatchNor (None, 200, 200, 64) 256         activation_1[0][0]               \n",
      "__________________________________________________________________________________________________\n",
      "activation_2 (Activation)       (None, 200, 200, 64) 0           batch_normalization_2[0][0]      \n",
      "__________________________________________________________________________________________________\n",
      "conv2d_2 (Conv2D)               (None, 200, 200, 32) 2080        activation_2[0][0]               \n",
      "__________________________________________________________________________________________________\n",
      "batch_normalization_3 (BatchNor (None, 200, 200, 32) 128         conv2d_2[0][0]                   \n",
      "__________________________________________________________________________________________________\n",
      "activation_3 (Activation)       (None, 200, 200, 32) 0           batch_normalization_3[0][0]      \n",
      "__________________________________________________________________________________________________\n",
      "conv2d_3 (Conv2D)               (None, 200, 200, 32) 9248        activation_3[0][0]               \n",
      "__________________________________________________________________________________________________\n",
      "batch_normalization_4 (BatchNor (None, 200, 200, 32) 128         conv2d_3[0][0]                   \n",
      "__________________________________________________________________________________________________\n",
      "activation_4 (Activation)       (None, 200, 200, 32) 0           batch_normalization_4[0][0]      \n",
      "__________________________________________________________________________________________________\n",
      "conv2d_transpose_1 (Conv2DTrans (None, 200, 200, 64) 2112        activation_4[0][0]               \n",
      "__________________________________________________________________________________________________\n",
      "add_1 (Add)                     (None, 200, 200, 64) 0           activation_1[0][0]               \n",
      "                                                                 conv2d_transpose_1[0][0]         \n",
      "__________________________________________________________________________________________________\n",
      "batch_normalization_5 (BatchNor (None, 200, 200, 64) 256         add_1[0][0]                      \n",
      "__________________________________________________________________________________________________\n",
      "activation_5 (Activation)       (None, 200, 200, 64) 0           batch_normalization_5[0][0]      \n",
      "__________________________________________________________________________________________________\n",
      "conv2d_4 (Conv2D)               (None, 200, 200, 32) 2080        activation_5[0][0]               \n",
      "__________________________________________________________________________________________________\n",
      "batch_normalization_6 (BatchNor (None, 200, 200, 32) 128         conv2d_4[0][0]                   \n",
      "__________________________________________________________________________________________________\n",
      "activation_6 (Activation)       (None, 200, 200, 32) 0           batch_normalization_6[0][0]      \n",
      "__________________________________________________________________________________________________\n",
      "conv2d_5 (Conv2D)               (None, 100, 100, 32) 9248        activation_6[0][0]               \n",
      "__________________________________________________________________________________________________\n",
      "batch_normalization_7 (BatchNor (None, 100, 100, 32) 128         conv2d_5[0][0]                   \n",
      "__________________________________________________________________________________________________\n",
      "activation_7 (Activation)       (None, 100, 100, 32) 0           batch_normalization_7[0][0]      \n",
      "__________________________________________________________________________________________________\n",
      "conv2d_transpose_2 (Conv2DTrans (None, 200, 200, 64) 2112        activation_7[0][0]               \n",
      "__________________________________________________________________________________________________\n",
      "add_2 (Add)                     (None, 200, 200, 64) 0           add_1[0][0]                      \n",
      "                                                                 conv2d_transpose_2[0][0]         \n",
      "__________________________________________________________________________________________________\n",
      "batch_normalization_8 (BatchNor (None, 200, 200, 64) 256         add_2[0][0]                      \n",
      "__________________________________________________________________________________________________\n",
      "activation_8 (Activation)       (None, 200, 200, 64) 0           batch_normalization_8[0][0]      \n",
      "__________________________________________________________________________________________________\n",
      "conv2d_6 (Conv2D)               (None, 200, 200, 32) 2080        activation_8[0][0]               \n",
      "__________________________________________________________________________________________________\n",
      "batch_normalization_9 (BatchNor (None, 200, 200, 32) 128         conv2d_6[0][0]                   \n",
      "__________________________________________________________________________________________________\n",
      "activation_9 (Activation)       (None, 200, 200, 32) 0           batch_normalization_9[0][0]      \n",
      "__________________________________________________________________________________________________\n",
      "conv2d_7 (Conv2D)               (None, 50, 50, 32)   9248        activation_9[0][0]               \n",
      "__________________________________________________________________________________________________\n",
      "batch_normalization_10 (BatchNo (None, 50, 50, 32)   128         conv2d_7[0][0]                   \n",
      "__________________________________________________________________________________________________\n",
      "activation_10 (Activation)      (None, 50, 50, 32)   0           batch_normalization_10[0][0]     \n",
      "__________________________________________________________________________________________________\n",
      "conv2d_transpose_3 (Conv2DTrans (None, 200, 200, 64) 2112        activation_10[0][0]              \n",
      "__________________________________________________________________________________________________\n",
      "add_3 (Add)                     (None, 200, 200, 64) 0           add_2[0][0]                      \n",
      "                                                                 conv2d_transpose_3[0][0]         \n",
      "__________________________________________________________________________________________________\n",
      "batch_normalization_11 (BatchNo (None, 200, 200, 64) 256         add_3[0][0]                      \n",
      "__________________________________________________________________________________________________\n",
      "activation_11 (Activation)      (None, 200, 200, 64) 0           batch_normalization_11[0][0]     \n",
      "__________________________________________________________________________________________________\n",
      "conv2d_8 (Conv2D)               (None, 200, 200, 32) 2080        activation_11[0][0]              \n",
      "__________________________________________________________________________________________________\n",
      "batch_normalization_12 (BatchNo (None, 200, 200, 32) 128         conv2d_8[0][0]                   \n",
      "__________________________________________________________________________________________________\n",
      "activation_12 (Activation)      (None, 200, 200, 32) 0           batch_normalization_12[0][0]     \n",
      "__________________________________________________________________________________________________\n",
      "conv2d_9 (Conv2D)               (None, 25, 25, 32)   9248        activation_12[0][0]              \n",
      "__________________________________________________________________________________________________\n",
      "batch_normalization_13 (BatchNo (None, 25, 25, 32)   128         conv2d_9[0][0]                   \n",
      "__________________________________________________________________________________________________\n",
      "activation_13 (Activation)      (None, 25, 25, 32)   0           batch_normalization_13[0][0]     \n",
      "__________________________________________________________________________________________________\n",
      "conv2d_transpose_4 (Conv2DTrans (None, 200, 200, 64) 2112        activation_13[0][0]              \n",
      "__________________________________________________________________________________________________\n",
      "add_4 (Add)                     (None, 200, 200, 64) 0           add_3[0][0]                      \n",
      "                                                                 conv2d_transpose_4[0][0]         \n",
      "__________________________________________________________________________________________________\n",
      "batch_normalization_14 (BatchNo (None, 200, 200, 64) 256         add_4[0][0]                      \n",
      "__________________________________________________________________________________________________\n",
      "activation_14 (Activation)      (None, 200, 200, 64) 0           batch_normalization_14[0][0]     \n",
      "__________________________________________________________________________________________________\n",
      "conv2d_10 (Conv2D)              (None, 200, 200, 32) 2080        activation_14[0][0]              \n",
      "__________________________________________________________________________________________________\n",
      "batch_normalization_15 (BatchNo (None, 200, 200, 32) 128         conv2d_10[0][0]                  \n",
      "__________________________________________________________________________________________________\n",
      "activation_15 (Activation)      (None, 200, 200, 32) 0           batch_normalization_15[0][0]     \n",
      "__________________________________________________________________________________________________\n",
      "conv2d_11 (Conv2D)              (None, 200, 200, 32) 9248        activation_15[0][0]              \n",
      "__________________________________________________________________________________________________\n",
      "batch_normalization_16 (BatchNo (None, 200, 200, 32) 128         conv2d_11[0][0]                  \n",
      "__________________________________________________________________________________________________\n",
      "activation_16 (Activation)      (None, 200, 200, 32) 0           batch_normalization_16[0][0]     \n",
      "__________________________________________________________________________________________________\n",
      "conv2d_transpose_5 (Conv2DTrans (None, 200, 200, 64) 2112        activation_16[0][0]              \n",
      "__________________________________________________________________________________________________\n",
      "add_5 (Add)                     (None, 200, 200, 64) 0           add_4[0][0]                      \n",
      "                                                                 conv2d_transpose_5[0][0]         \n",
      "__________________________________________________________________________________________________\n",
      "batch_normalization_17 (BatchNo (None, 200, 200, 64) 256         add_5[0][0]                      \n",
      "__________________________________________________________________________________________________\n",
      "activation_17 (Activation)      (None, 200, 200, 64) 0           batch_normalization_17[0][0]     \n",
      "__________________________________________________________________________________________________\n",
      "conv2d_12 (Conv2D)              (None, 200, 200, 32) 2080        activation_17[0][0]              \n",
      "__________________________________________________________________________________________________\n",
      "batch_normalization_18 (BatchNo (None, 200, 200, 32) 128         conv2d_12[0][0]                  \n",
      "__________________________________________________________________________________________________\n",
      "activation_18 (Activation)      (None, 200, 200, 32) 0           batch_normalization_18[0][0]     \n",
      "__________________________________________________________________________________________________\n",
      "conv2d_13 (Conv2D)              (None, 100, 100, 32) 9248        activation_18[0][0]              \n",
      "__________________________________________________________________________________________________\n",
      "batch_normalization_19 (BatchNo (None, 100, 100, 32) 128         conv2d_13[0][0]                  \n",
      "__________________________________________________________________________________________________\n",
      "activation_19 (Activation)      (None, 100, 100, 32) 0           batch_normalization_19[0][0]     \n",
      "__________________________________________________________________________________________________\n",
      "conv2d_transpose_6 (Conv2DTrans (None, 200, 200, 64) 2112        activation_19[0][0]              \n",
      "__________________________________________________________________________________________________\n",
      "add_6 (Add)                     (None, 200, 200, 64) 0           add_5[0][0]                      \n",
      "                                                                 conv2d_transpose_6[0][0]         \n",
      "__________________________________________________________________________________________________\n",
      "batch_normalization_20 (BatchNo (None, 200, 200, 64) 256         add_6[0][0]                      \n",
      "__________________________________________________________________________________________________\n",
      "activation_20 (Activation)      (None, 200, 200, 64) 0           batch_normalization_20[0][0]     \n",
      "__________________________________________________________________________________________________\n",
      "conv2d_14 (Conv2D)              (None, 200, 200, 32) 2080        activation_20[0][0]              \n",
      "__________________________________________________________________________________________________\n",
      "batch_normalization_21 (BatchNo (None, 200, 200, 32) 128         conv2d_14[0][0]                  \n",
      "__________________________________________________________________________________________________\n",
      "activation_21 (Activation)      (None, 200, 200, 32) 0           batch_normalization_21[0][0]     \n",
      "__________________________________________________________________________________________________\n",
      "conv2d_15 (Conv2D)              (None, 50, 50, 32)   9248        activation_21[0][0]              \n",
      "__________________________________________________________________________________________________\n",
      "batch_normalization_22 (BatchNo (None, 50, 50, 32)   128         conv2d_15[0][0]                  \n",
      "__________________________________________________________________________________________________\n",
      "activation_22 (Activation)      (None, 50, 50, 32)   0           batch_normalization_22[0][0]     \n",
      "__________________________________________________________________________________________________\n",
      "conv2d_transpose_7 (Conv2DTrans (None, 200, 200, 64) 2112        activation_22[0][0]              \n",
      "__________________________________________________________________________________________________\n",
      "add_7 (Add)                     (None, 200, 200, 64) 0           add_6[0][0]                      \n",
      "                                                                 conv2d_transpose_7[0][0]         \n",
      "__________________________________________________________________________________________________\n",
      "batch_normalization_23 (BatchNo (None, 200, 200, 64) 256         add_7[0][0]                      \n",
      "__________________________________________________________________________________________________\n",
      "activation_23 (Activation)      (None, 200, 200, 64) 0           batch_normalization_23[0][0]     \n",
      "__________________________________________________________________________________________________\n",
      "conv2d_16 (Conv2D)              (None, 200, 200, 32) 2080        activation_23[0][0]              \n",
      "__________________________________________________________________________________________________\n",
      "batch_normalization_24 (BatchNo (None, 200, 200, 32) 128         conv2d_16[0][0]                  \n",
      "__________________________________________________________________________________________________\n",
      "activation_24 (Activation)      (None, 200, 200, 32) 0           batch_normalization_24[0][0]     \n",
      "__________________________________________________________________________________________________\n",
      "conv2d_17 (Conv2D)              (None, 25, 25, 32)   9248        activation_24[0][0]              \n",
      "__________________________________________________________________________________________________\n",
      "batch_normalization_25 (BatchNo (None, 25, 25, 32)   128         conv2d_17[0][0]                  \n",
      "__________________________________________________________________________________________________\n",
      "activation_25 (Activation)      (None, 25, 25, 32)   0           batch_normalization_25[0][0]     \n",
      "__________________________________________________________________________________________________\n",
      "conv2d_transpose_8 (Conv2DTrans (None, 200, 200, 64) 2112        activation_25[0][0]              \n",
      "__________________________________________________________________________________________________\n",
      "add_8 (Add)                     (None, 200, 200, 64) 0           add_7[0][0]                      \n",
      "                                                                 conv2d_transpose_8[0][0]         \n",
      "__________________________________________________________________________________________________\n",
      "batch_normalization_26 (BatchNo (None, 200, 200, 64) 256         add_8[0][0]                      \n",
      "__________________________________________________________________________________________________\n",
      "activation_26 (Activation)      (None, 200, 200, 64) 0           batch_normalization_26[0][0]     \n",
      "__________________________________________________________________________________________________\n",
      "conv2d_18 (Conv2D)              (None, 200, 200, 32) 2080        activation_26[0][0]              \n",
      "__________________________________________________________________________________________________\n",
      "batch_normalization_27 (BatchNo (None, 200, 200, 32) 128         conv2d_18[0][0]                  \n",
      "__________________________________________________________________________________________________\n",
      "activation_27 (Activation)      (None, 200, 200, 32) 0           batch_normalization_27[0][0]     \n",
      "__________________________________________________________________________________________________\n",
      "conv2d_19 (Conv2D)              (None, 200, 200, 32) 9248        activation_27[0][0]              \n",
      "__________________________________________________________________________________________________\n",
      "batch_normalization_28 (BatchNo (None, 200, 200, 32) 128         conv2d_19[0][0]                  \n",
      "__________________________________________________________________________________________________\n",
      "activation_28 (Activation)      (None, 200, 200, 32) 0           batch_normalization_28[0][0]     \n",
      "__________________________________________________________________________________________________\n",
      "conv2d_transpose_9 (Conv2DTrans (None, 200, 200, 64) 2112        activation_28[0][0]              \n",
      "__________________________________________________________________________________________________\n",
      "add_9 (Add)                     (None, 200, 200, 64) 0           add_8[0][0]                      \n",
      "                                                                 conv2d_transpose_9[0][0]         \n",
      "__________________________________________________________________________________________________\n",
      "batch_normalization_29 (BatchNo (None, 200, 200, 64) 256         add_9[0][0]                      \n",
      "__________________________________________________________________________________________________\n",
      "activation_29 (Activation)      (None, 200, 200, 64) 0           batch_normalization_29[0][0]     \n",
      "__________________________________________________________________________________________________\n",
      "conv2d_20 (Conv2D)              (None, 200, 200, 32) 2080        activation_29[0][0]              \n",
      "__________________________________________________________________________________________________\n",
      "batch_normalization_30 (BatchNo (None, 200, 200, 32) 128         conv2d_20[0][0]                  \n",
      "__________________________________________________________________________________________________\n",
      "activation_30 (Activation)      (None, 200, 200, 32) 0           batch_normalization_30[0][0]     \n",
      "__________________________________________________________________________________________________\n",
      "conv2d_21 (Conv2D)              (None, 100, 100, 32) 9248        activation_30[0][0]              \n",
      "__________________________________________________________________________________________________\n",
      "batch_normalization_31 (BatchNo (None, 100, 100, 32) 128         conv2d_21[0][0]                  \n",
      "__________________________________________________________________________________________________\n",
      "activation_31 (Activation)      (None, 100, 100, 32) 0           batch_normalization_31[0][0]     \n",
      "__________________________________________________________________________________________________\n",
      "conv2d_transpose_10 (Conv2DTran (None, 200, 200, 64) 2112        activation_31[0][0]              \n",
      "__________________________________________________________________________________________________\n",
      "add_10 (Add)                    (None, 200, 200, 64) 0           add_9[0][0]                      \n",
      "                                                                 conv2d_transpose_10[0][0]        \n",
      "__________________________________________________________________________________________________\n",
      "batch_normalization_32 (BatchNo (None, 200, 200, 64) 256         add_10[0][0]                     \n",
      "__________________________________________________________________________________________________\n",
      "activation_32 (Activation)      (None, 200, 200, 64) 0           batch_normalization_32[0][0]     \n",
      "__________________________________________________________________________________________________\n",
      "conv2d_22 (Conv2D)              (None, 200, 200, 32) 2080        activation_32[0][0]              \n",
      "__________________________________________________________________________________________________\n",
      "batch_normalization_33 (BatchNo (None, 200, 200, 32) 128         conv2d_22[0][0]                  \n",
      "__________________________________________________________________________________________________\n",
      "activation_33 (Activation)      (None, 200, 200, 32) 0           batch_normalization_33[0][0]     \n",
      "__________________________________________________________________________________________________\n",
      "conv2d_23 (Conv2D)              (None, 50, 50, 32)   9248        activation_33[0][0]              \n",
      "__________________________________________________________________________________________________\n",
      "batch_normalization_34 (BatchNo (None, 50, 50, 32)   128         conv2d_23[0][0]                  \n",
      "__________________________________________________________________________________________________\n",
      "activation_34 (Activation)      (None, 50, 50, 32)   0           batch_normalization_34[0][0]     \n",
      "__________________________________________________________________________________________________\n",
      "conv2d_transpose_11 (Conv2DTran (None, 200, 200, 64) 2112        activation_34[0][0]              \n",
      "__________________________________________________________________________________________________\n",
      "add_11 (Add)                    (None, 200, 200, 64) 0           add_10[0][0]                     \n",
      "                                                                 conv2d_transpose_11[0][0]        \n",
      "__________________________________________________________________________________________________\n",
      "batch_normalization_35 (BatchNo (None, 200, 200, 64) 256         add_11[0][0]                     \n",
      "__________________________________________________________________________________________________\n",
      "activation_35 (Activation)      (None, 200, 200, 64) 0           batch_normalization_35[0][0]     \n",
      "__________________________________________________________________________________________________\n",
      "conv2d_24 (Conv2D)              (None, 200, 200, 32) 2080        activation_35[0][0]              \n",
      "__________________________________________________________________________________________________\n",
      "batch_normalization_36 (BatchNo (None, 200, 200, 32) 128         conv2d_24[0][0]                  \n",
      "__________________________________________________________________________________________________\n",
      "activation_36 (Activation)      (None, 200, 200, 32) 0           batch_normalization_36[0][0]     \n",
      "__________________________________________________________________________________________________\n",
      "conv2d_25 (Conv2D)              (None, 25, 25, 32)   9248        activation_36[0][0]              \n",
      "__________________________________________________________________________________________________\n",
      "batch_normalization_37 (BatchNo (None, 25, 25, 32)   128         conv2d_25[0][0]                  \n",
      "__________________________________________________________________________________________________\n",
      "activation_37 (Activation)      (None, 25, 25, 32)   0           batch_normalization_37[0][0]     \n",
      "__________________________________________________________________________________________________\n",
      "conv2d_transpose_12 (Conv2DTran (None, 200, 200, 64) 2112        activation_37[0][0]              \n",
      "__________________________________________________________________________________________________\n",
      "add_12 (Add)                    (None, 200, 200, 64) 0           add_11[0][0]                     \n",
      "                                                                 conv2d_transpose_12[0][0]        \n",
      "__________________________________________________________________________________________________\n",
      "batch_normalization_38 (BatchNo (None, 200, 200, 64) 256         add_12[0][0]                     \n",
      "__________________________________________________________________________________________________\n",
      "activation_38 (Activation)      (None, 200, 200, 64) 0           batch_normalization_38[0][0]     \n",
      "__________________________________________________________________________________________________\n",
      "conv2d_26 (Conv2D)              (None, 200, 200, 32) 2080        activation_38[0][0]              \n",
      "__________________________________________________________________________________________________\n",
      "batch_normalization_39 (BatchNo (None, 200, 200, 32) 128         conv2d_26[0][0]                  \n",
      "__________________________________________________________________________________________________\n",
      "activation_39 (Activation)      (None, 200, 200, 32) 0           batch_normalization_39[0][0]     \n",
      "__________________________________________________________________________________________________\n",
      "conv2d_27 (Conv2D)              (None, 200, 200, 32) 9248        activation_39[0][0]              \n",
      "__________________________________________________________________________________________________\n",
      "batch_normalization_40 (BatchNo (None, 200, 200, 32) 128         conv2d_27[0][0]                  \n",
      "__________________________________________________________________________________________________\n",
      "activation_40 (Activation)      (None, 200, 200, 32) 0           batch_normalization_40[0][0]     \n",
      "__________________________________________________________________________________________________\n",
      "conv2d_transpose_13 (Conv2DTran (None, 200, 200, 64) 2112        activation_40[0][0]              \n",
      "__________________________________________________________________________________________________\n",
      "add_13 (Add)                    (None, 200, 200, 64) 0           add_12[0][0]                     \n",
      "                                                                 conv2d_transpose_13[0][0]        \n",
      "__________________________________________________________________________________________________\n",
      "batch_normalization_41 (BatchNo (None, 200, 200, 64) 256         add_13[0][0]                     \n",
      "__________________________________________________________________________________________________\n",
      "activation_41 (Activation)      (None, 200, 200, 64) 0           batch_normalization_41[0][0]     \n",
      "__________________________________________________________________________________________________\n",
      "conv2d_28 (Conv2D)              (None, 200, 200, 32) 2080        activation_41[0][0]              \n",
      "__________________________________________________________________________________________________\n",
      "batch_normalization_42 (BatchNo (None, 200, 200, 32) 128         conv2d_28[0][0]                  \n",
      "__________________________________________________________________________________________________\n",
      "activation_42 (Activation)      (None, 200, 200, 32) 0           batch_normalization_42[0][0]     \n",
      "__________________________________________________________________________________________________\n",
      "conv2d_29 (Conv2D)              (None, 100, 100, 32) 9248        activation_42[0][0]              \n",
      "__________________________________________________________________________________________________\n",
      "batch_normalization_43 (BatchNo (None, 100, 100, 32) 128         conv2d_29[0][0]                  \n",
      "__________________________________________________________________________________________________\n",
      "activation_43 (Activation)      (None, 100, 100, 32) 0           batch_normalization_43[0][0]     \n",
      "__________________________________________________________________________________________________\n",
      "conv2d_transpose_14 (Conv2DTran (None, 200, 200, 64) 2112        activation_43[0][0]              \n",
      "__________________________________________________________________________________________________\n",
      "add_14 (Add)                    (None, 200, 200, 64) 0           add_13[0][0]                     \n",
      "                                                                 conv2d_transpose_14[0][0]        \n",
      "__________________________________________________________________________________________________\n",
      "batch_normalization_44 (BatchNo (None, 200, 200, 64) 256         add_14[0][0]                     \n",
      "__________________________________________________________________________________________________\n",
      "activation_44 (Activation)      (None, 200, 200, 64) 0           batch_normalization_44[0][0]     \n",
      "__________________________________________________________________________________________________\n",
      "conv2d_30 (Conv2D)              (None, 200, 200, 32) 2080        activation_44[0][0]              \n",
      "__________________________________________________________________________________________________\n",
      "batch_normalization_45 (BatchNo (None, 200, 200, 32) 128         conv2d_30[0][0]                  \n",
      "__________________________________________________________________________________________________\n",
      "activation_45 (Activation)      (None, 200, 200, 32) 0           batch_normalization_45[0][0]     \n",
      "__________________________________________________________________________________________________\n",
      "conv2d_31 (Conv2D)              (None, 50, 50, 32)   9248        activation_45[0][0]              \n",
      "__________________________________________________________________________________________________\n",
      "batch_normalization_46 (BatchNo (None, 50, 50, 32)   128         conv2d_31[0][0]                  \n",
      "__________________________________________________________________________________________________\n",
      "activation_46 (Activation)      (None, 50, 50, 32)   0           batch_normalization_46[0][0]     \n",
      "__________________________________________________________________________________________________\n",
      "conv2d_transpose_15 (Conv2DTran (None, 200, 200, 64) 2112        activation_46[0][0]              \n",
      "__________________________________________________________________________________________________\n",
      "add_15 (Add)                    (None, 200, 200, 64) 0           add_14[0][0]                     \n",
      "                                                                 conv2d_transpose_15[0][0]        \n",
      "__________________________________________________________________________________________________\n",
      "batch_normalization_47 (BatchNo (None, 200, 200, 64) 256         add_15[0][0]                     \n",
      "__________________________________________________________________________________________________\n",
      "activation_47 (Activation)      (None, 200, 200, 64) 0           batch_normalization_47[0][0]     \n",
      "__________________________________________________________________________________________________\n",
      "conv2d_32 (Conv2D)              (None, 200, 200, 32) 2080        activation_47[0][0]              \n",
      "__________________________________________________________________________________________________\n",
      "batch_normalization_48 (BatchNo (None, 200, 200, 32) 128         conv2d_32[0][0]                  \n",
      "__________________________________________________________________________________________________\n",
      "activation_48 (Activation)      (None, 200, 200, 32) 0           batch_normalization_48[0][0]     \n",
      "__________________________________________________________________________________________________\n",
      "conv2d_33 (Conv2D)              (None, 25, 25, 32)   9248        activation_48[0][0]              \n",
      "__________________________________________________________________________________________________\n",
      "batch_normalization_49 (BatchNo (None, 25, 25, 32)   128         conv2d_33[0][0]                  \n",
      "__________________________________________________________________________________________________\n",
      "activation_49 (Activation)      (None, 25, 25, 32)   0           batch_normalization_49[0][0]     \n",
      "__________________________________________________________________________________________________\n",
      "conv2d_transpose_16 (Conv2DTran (None, 200, 200, 64) 2112        activation_49[0][0]              \n",
      "__________________________________________________________________________________________________\n",
      "add_16 (Add)                    (None, 200, 200, 64) 0           add_15[0][0]                     \n",
      "                                                                 conv2d_transpose_16[0][0]        \n",
      "__________________________________________________________________________________________________\n",
      "batch_normalization_50 (BatchNo (None, 200, 200, 64) 256         add_16[0][0]                     \n",
      "__________________________________________________________________________________________________\n",
      "activation_50 (Activation)      (None, 200, 200, 64) 0           batch_normalization_50[0][0]     \n",
      "__________________________________________________________________________________________________\n",
      "conv2d_34 (Conv2D)              (None, 200, 200, 32) 2080        activation_50[0][0]              \n",
      "__________________________________________________________________________________________________\n",
      "batch_normalization_51 (BatchNo (None, 200, 200, 32) 128         conv2d_34[0][0]                  \n",
      "__________________________________________________________________________________________________\n",
      "activation_51 (Activation)      (None, 200, 200, 32) 0           batch_normalization_51[0][0]     \n",
      "__________________________________________________________________________________________________\n",
      "conv2d_35 (Conv2D)              (None, 200, 200, 32) 9248        activation_51[0][0]              \n",
      "__________________________________________________________________________________________________\n",
      "batch_normalization_52 (BatchNo (None, 200, 200, 32) 128         conv2d_35[0][0]                  \n",
      "__________________________________________________________________________________________________\n",
      "activation_52 (Activation)      (None, 200, 200, 32) 0           batch_normalization_52[0][0]     \n",
      "__________________________________________________________________________________________________\n",
      "conv2d_transpose_17 (Conv2DTran (None, 200, 200, 64) 2112        activation_52[0][0]              \n",
      "__________________________________________________________________________________________________\n",
      "add_17 (Add)                    (None, 200, 200, 64) 0           add_16[0][0]                     \n",
      "                                                                 conv2d_transpose_17[0][0]        \n",
      "__________________________________________________________________________________________________\n",
      "batch_normalization_53 (BatchNo (None, 200, 200, 64) 256         add_17[0][0]                     \n",
      "__________________________________________________________________________________________________\n",
      "activation_53 (Activation)      (None, 200, 200, 64) 0           batch_normalization_53[0][0]     \n",
      "__________________________________________________________________________________________________\n",
      "conv2d_36 (Conv2D)              (None, 200, 200, 32) 2080        activation_53[0][0]              \n",
      "__________________________________________________________________________________________________\n",
      "batch_normalization_54 (BatchNo (None, 200, 200, 32) 128         conv2d_36[0][0]                  \n",
      "__________________________________________________________________________________________________\n",
      "activation_54 (Activation)      (None, 200, 200, 32) 0           batch_normalization_54[0][0]     \n",
      "__________________________________________________________________________________________________\n",
      "conv2d_37 (Conv2D)              (None, 100, 100, 32) 9248        activation_54[0][0]              \n",
      "__________________________________________________________________________________________________\n",
      "batch_normalization_55 (BatchNo (None, 100, 100, 32) 128         conv2d_37[0][0]                  \n",
      "__________________________________________________________________________________________________\n",
      "activation_55 (Activation)      (None, 100, 100, 32) 0           batch_normalization_55[0][0]     \n",
      "__________________________________________________________________________________________________\n",
      "conv2d_transpose_18 (Conv2DTran (None, 200, 200, 64) 2112        activation_55[0][0]              \n",
      "__________________________________________________________________________________________________\n",
      "add_18 (Add)                    (None, 200, 200, 64) 0           add_17[0][0]                     \n",
      "                                                                 conv2d_transpose_18[0][0]        \n",
      "__________________________________________________________________________________________________\n",
      "batch_normalization_56 (BatchNo (None, 200, 200, 64) 256         add_18[0][0]                     \n",
      "__________________________________________________________________________________________________\n",
      "activation_56 (Activation)      (None, 200, 200, 64) 0           batch_normalization_56[0][0]     \n",
      "__________________________________________________________________________________________________\n",
      "conv2d_38 (Conv2D)              (None, 200, 200, 32) 2080        activation_56[0][0]              \n",
      "__________________________________________________________________________________________________\n",
      "batch_normalization_57 (BatchNo (None, 200, 200, 32) 128         conv2d_38[0][0]                  \n",
      "__________________________________________________________________________________________________\n",
      "activation_57 (Activation)      (None, 200, 200, 32) 0           batch_normalization_57[0][0]     \n",
      "__________________________________________________________________________________________________\n",
      "conv2d_39 (Conv2D)              (None, 50, 50, 32)   9248        activation_57[0][0]              \n",
      "__________________________________________________________________________________________________\n",
      "batch_normalization_58 (BatchNo (None, 50, 50, 32)   128         conv2d_39[0][0]                  \n",
      "__________________________________________________________________________________________________\n",
      "activation_58 (Activation)      (None, 50, 50, 32)   0           batch_normalization_58[0][0]     \n",
      "__________________________________________________________________________________________________\n",
      "conv2d_transpose_19 (Conv2DTran (None, 200, 200, 64) 2112        activation_58[0][0]              \n",
      "__________________________________________________________________________________________________\n",
      "add_19 (Add)                    (None, 200, 200, 64) 0           add_18[0][0]                     \n",
      "                                                                 conv2d_transpose_19[0][0]        \n",
      "__________________________________________________________________________________________________\n",
      "batch_normalization_59 (BatchNo (None, 200, 200, 64) 256         add_19[0][0]                     \n",
      "__________________________________________________________________________________________________\n",
      "activation_59 (Activation)      (None, 200, 200, 64) 0           batch_normalization_59[0][0]     \n",
      "__________________________________________________________________________________________________\n",
      "conv2d_40 (Conv2D)              (None, 200, 200, 32) 2080        activation_59[0][0]              \n",
      "__________________________________________________________________________________________________\n",
      "batch_normalization_60 (BatchNo (None, 200, 200, 32) 128         conv2d_40[0][0]                  \n",
      "__________________________________________________________________________________________________\n",
      "activation_60 (Activation)      (None, 200, 200, 32) 0           batch_normalization_60[0][0]     \n",
      "__________________________________________________________________________________________________\n",
      "conv2d_41 (Conv2D)              (None, 25, 25, 32)   9248        activation_60[0][0]              \n",
      "__________________________________________________________________________________________________\n",
      "batch_normalization_61 (BatchNo (None, 25, 25, 32)   128         conv2d_41[0][0]                  \n",
      "__________________________________________________________________________________________________\n",
      "activation_61 (Activation)      (None, 25, 25, 32)   0           batch_normalization_61[0][0]     \n",
      "__________________________________________________________________________________________________\n",
      "conv2d_transpose_20 (Conv2DTran (None, 200, 200, 64) 2112        activation_61[0][0]              \n",
      "__________________________________________________________________________________________________\n",
      "add_20 (Add)                    (None, 200, 200, 64) 0           add_19[0][0]                     \n",
      "                                                                 conv2d_transpose_20[0][0]        \n",
      "__________________________________________________________________________________________________\n",
      "batch_normalization_62 (BatchNo (None, 200, 200, 64) 256         add_20[0][0]                     \n",
      "__________________________________________________________________________________________________\n",
      "activation_62 (Activation)      (None, 200, 200, 64) 0           batch_normalization_62[0][0]     \n",
      "__________________________________________________________________________________________________\n",
      "conv2d_42 (Conv2D)              (None, 200, 200, 32) 2080        activation_62[0][0]              \n",
      "__________________________________________________________________________________________________\n",
      "batch_normalization_63 (BatchNo (None, 200, 200, 32) 128         conv2d_42[0][0]                  \n",
      "__________________________________________________________________________________________________\n",
      "activation_63 (Activation)      (None, 200, 200, 32) 0           batch_normalization_63[0][0]     \n",
      "__________________________________________________________________________________________________\n",
      "conv2d_43 (Conv2D)              (None, 200, 200, 32) 9248        activation_63[0][0]              \n",
      "__________________________________________________________________________________________________\n",
      "batch_normalization_64 (BatchNo (None, 200, 200, 32) 128         conv2d_43[0][0]                  \n",
      "__________________________________________________________________________________________________\n",
      "activation_64 (Activation)      (None, 200, 200, 32) 0           batch_normalization_64[0][0]     \n",
      "__________________________________________________________________________________________________\n",
      "conv2d_transpose_21 (Conv2DTran (None, 200, 200, 64) 2112        activation_64[0][0]              \n",
      "__________________________________________________________________________________________________\n",
      "add_21 (Add)                    (None, 200, 200, 64) 0           add_20[0][0]                     \n",
      "                                                                 conv2d_transpose_21[0][0]        \n",
      "__________________________________________________________________________________________________\n",
      "batch_normalization_65 (BatchNo (None, 200, 200, 64) 256         add_21[0][0]                     \n",
      "__________________________________________________________________________________________________\n",
      "activation_65 (Activation)      (None, 200, 200, 64) 0           batch_normalization_65[0][0]     \n",
      "__________________________________________________________________________________________________\n",
      "conv2d_44 (Conv2D)              (None, 200, 200, 32) 2080        activation_65[0][0]              \n",
      "__________________________________________________________________________________________________\n",
      "batch_normalization_66 (BatchNo (None, 200, 200, 32) 128         conv2d_44[0][0]                  \n",
      "__________________________________________________________________________________________________\n",
      "activation_66 (Activation)      (None, 200, 200, 32) 0           batch_normalization_66[0][0]     \n",
      "__________________________________________________________________________________________________\n",
      "conv2d_45 (Conv2D)              (None, 100, 100, 32) 9248        activation_66[0][0]              \n",
      "__________________________________________________________________________________________________\n",
      "batch_normalization_67 (BatchNo (None, 100, 100, 32) 128         conv2d_45[0][0]                  \n",
      "__________________________________________________________________________________________________\n",
      "activation_67 (Activation)      (None, 100, 100, 32) 0           batch_normalization_67[0][0]     \n",
      "__________________________________________________________________________________________________\n",
      "conv2d_transpose_22 (Conv2DTran (None, 200, 200, 64) 2112        activation_67[0][0]              \n",
      "__________________________________________________________________________________________________\n",
      "add_22 (Add)                    (None, 200, 200, 64) 0           add_21[0][0]                     \n",
      "                                                                 conv2d_transpose_22[0][0]        \n",
      "__________________________________________________________________________________________________\n",
      "batch_normalization_68 (BatchNo (None, 200, 200, 64) 256         add_22[0][0]                     \n",
      "__________________________________________________________________________________________________\n",
      "activation_68 (Activation)      (None, 200, 200, 64) 0           batch_normalization_68[0][0]     \n",
      "__________________________________________________________________________________________________\n",
      "conv2d_46 (Conv2D)              (None, 200, 200, 32) 2080        activation_68[0][0]              \n",
      "__________________________________________________________________________________________________\n",
      "batch_normalization_69 (BatchNo (None, 200, 200, 32) 128         conv2d_46[0][0]                  \n",
      "__________________________________________________________________________________________________\n",
      "activation_69 (Activation)      (None, 200, 200, 32) 0           batch_normalization_69[0][0]     \n",
      "__________________________________________________________________________________________________\n",
      "conv2d_47 (Conv2D)              (None, 50, 50, 32)   9248        activation_69[0][0]              \n",
      "__________________________________________________________________________________________________\n",
      "batch_normalization_70 (BatchNo (None, 50, 50, 32)   128         conv2d_47[0][0]                  \n",
      "__________________________________________________________________________________________________\n",
      "activation_70 (Activation)      (None, 50, 50, 32)   0           batch_normalization_70[0][0]     \n",
      "__________________________________________________________________________________________________\n",
      "conv2d_transpose_23 (Conv2DTran (None, 200, 200, 64) 2112        activation_70[0][0]              \n",
      "__________________________________________________________________________________________________\n",
      "add_23 (Add)                    (None, 200, 200, 64) 0           add_22[0][0]                     \n",
      "                                                                 conv2d_transpose_23[0][0]        \n",
      "__________________________________________________________________________________________________\n",
      "batch_normalization_71 (BatchNo (None, 200, 200, 64) 256         add_23[0][0]                     \n",
      "__________________________________________________________________________________________________\n",
      "activation_71 (Activation)      (None, 200, 200, 64) 0           batch_normalization_71[0][0]     \n",
      "__________________________________________________________________________________________________\n",
      "conv2d_48 (Conv2D)              (None, 200, 200, 32) 2080        activation_71[0][0]              \n",
      "__________________________________________________________________________________________________\n",
      "batch_normalization_72 (BatchNo (None, 200, 200, 32) 128         conv2d_48[0][0]                  \n",
      "__________________________________________________________________________________________________\n",
      "activation_72 (Activation)      (None, 200, 200, 32) 0           batch_normalization_72[0][0]     \n",
      "__________________________________________________________________________________________________\n",
      "conv2d_49 (Conv2D)              (None, 25, 25, 32)   9248        activation_72[0][0]              \n",
      "__________________________________________________________________________________________________\n",
      "batch_normalization_73 (BatchNo (None, 25, 25, 32)   128         conv2d_49[0][0]                  \n",
      "__________________________________________________________________________________________________\n",
      "activation_73 (Activation)      (None, 25, 25, 32)   0           batch_normalization_73[0][0]     \n",
      "__________________________________________________________________________________________________\n",
      "conv2d_transpose_24 (Conv2DTran (None, 200, 200, 64) 2112        activation_73[0][0]              \n",
      "__________________________________________________________________________________________________\n",
      "add_24 (Add)                    (None, 200, 200, 64) 0           add_23[0][0]                     \n",
      "                                                                 conv2d_transpose_24[0][0]        \n",
      "__________________________________________________________________________________________________\n",
      "batch_normalization_74 (BatchNo (None, 200, 200, 64) 256         add_24[0][0]                     \n",
      "__________________________________________________________________________________________________\n",
      "activation_74 (Activation)      (None, 200, 200, 64) 0           batch_normalization_74[0][0]     \n",
      "__________________________________________________________________________________________________\n",
      "conv2d_50 (Conv2D)              (None, 200, 200, 32) 2080        activation_74[0][0]              \n",
      "__________________________________________________________________________________________________\n",
      "batch_normalization_75 (BatchNo (None, 200, 200, 32) 128         conv2d_50[0][0]                  \n",
      "__________________________________________________________________________________________________\n",
      "activation_75 (Activation)      (None, 200, 200, 32) 0           batch_normalization_75[0][0]     \n",
      "__________________________________________________________________________________________________\n",
      "conv2d_51 (Conv2D)              (None, 200, 200, 32) 9248        activation_75[0][0]              \n",
      "__________________________________________________________________________________________________\n",
      "batch_normalization_76 (BatchNo (None, 200, 200, 32) 128         conv2d_51[0][0]                  \n",
      "__________________________________________________________________________________________________\n",
      "activation_76 (Activation)      (None, 200, 200, 32) 0           batch_normalization_76[0][0]     \n",
      "__________________________________________________________________________________________________\n",
      "conv2d_transpose_25 (Conv2DTran (None, 200, 200, 64) 2112        activation_76[0][0]              \n",
      "__________________________________________________________________________________________________\n",
      "add_25 (Add)                    (None, 200, 200, 64) 0           add_24[0][0]                     \n",
      "                                                                 conv2d_transpose_25[0][0]        \n",
      "__________________________________________________________________________________________________\n",
      "batch_normalization_77 (BatchNo (None, 200, 200, 64) 256         add_25[0][0]                     \n",
      "__________________________________________________________________________________________________\n",
      "activation_77 (Activation)      (None, 200, 200, 64) 0           batch_normalization_77[0][0]     \n",
      "__________________________________________________________________________________________________\n",
      "conv2d_52 (Conv2D)              (None, 200, 200, 32) 2080        activation_77[0][0]              \n",
      "__________________________________________________________________________________________________\n",
      "batch_normalization_78 (BatchNo (None, 200, 200, 32) 128         conv2d_52[0][0]                  \n",
      "__________________________________________________________________________________________________\n",
      "activation_78 (Activation)      (None, 200, 200, 32) 0           batch_normalization_78[0][0]     \n",
      "__________________________________________________________________________________________________\n",
      "conv2d_53 (Conv2D)              (None, 100, 100, 32) 9248        activation_78[0][0]              \n",
      "__________________________________________________________________________________________________\n",
      "batch_normalization_79 (BatchNo (None, 100, 100, 32) 128         conv2d_53[0][0]                  \n",
      "__________________________________________________________________________________________________\n",
      "activation_79 (Activation)      (None, 100, 100, 32) 0           batch_normalization_79[0][0]     \n",
      "__________________________________________________________________________________________________\n",
      "conv2d_transpose_26 (Conv2DTran (None, 200, 200, 64) 2112        activation_79[0][0]              \n",
      "__________________________________________________________________________________________________\n",
      "add_26 (Add)                    (None, 200, 200, 64) 0           add_25[0][0]                     \n",
      "                                                                 conv2d_transpose_26[0][0]        \n",
      "__________________________________________________________________________________________________\n",
      "batch_normalization_80 (BatchNo (None, 200, 200, 64) 256         add_26[0][0]                     \n",
      "__________________________________________________________________________________________________\n",
      "activation_80 (Activation)      (None, 200, 200, 64) 0           batch_normalization_80[0][0]     \n",
      "__________________________________________________________________________________________________\n",
      "conv2d_54 (Conv2D)              (None, 200, 200, 32) 2080        activation_80[0][0]              \n",
      "__________________________________________________________________________________________________\n",
      "batch_normalization_81 (BatchNo (None, 200, 200, 32) 128         conv2d_54[0][0]                  \n",
      "__________________________________________________________________________________________________\n",
      "activation_81 (Activation)      (None, 200, 200, 32) 0           batch_normalization_81[0][0]     \n",
      "__________________________________________________________________________________________________\n",
      "conv2d_55 (Conv2D)              (None, 50, 50, 32)   9248        activation_81[0][0]              \n",
      "__________________________________________________________________________________________________\n",
      "batch_normalization_82 (BatchNo (None, 50, 50, 32)   128         conv2d_55[0][0]                  \n",
      "__________________________________________________________________________________________________\n",
      "activation_82 (Activation)      (None, 50, 50, 32)   0           batch_normalization_82[0][0]     \n",
      "__________________________________________________________________________________________________\n",
      "conv2d_transpose_27 (Conv2DTran (None, 200, 200, 64) 2112        activation_82[0][0]              \n",
      "__________________________________________________________________________________________________\n",
      "add_27 (Add)                    (None, 200, 200, 64) 0           add_26[0][0]                     \n",
      "                                                                 conv2d_transpose_27[0][0]        \n",
      "__________________________________________________________________________________________________\n",
      "batch_normalization_83 (BatchNo (None, 200, 200, 64) 256         add_27[0][0]                     \n",
      "__________________________________________________________________________________________________\n",
      "activation_83 (Activation)      (None, 200, 200, 64) 0           batch_normalization_83[0][0]     \n",
      "__________________________________________________________________________________________________\n",
      "conv2d_56 (Conv2D)              (None, 200, 200, 32) 2080        activation_83[0][0]              \n",
      "__________________________________________________________________________________________________\n",
      "batch_normalization_84 (BatchNo (None, 200, 200, 32) 128         conv2d_56[0][0]                  \n",
      "__________________________________________________________________________________________________\n",
      "activation_84 (Activation)      (None, 200, 200, 32) 0           batch_normalization_84[0][0]     \n",
      "__________________________________________________________________________________________________\n",
      "conv2d_57 (Conv2D)              (None, 25, 25, 32)   9248        activation_84[0][0]              \n",
      "__________________________________________________________________________________________________\n",
      "batch_normalization_85 (BatchNo (None, 25, 25, 32)   128         conv2d_57[0][0]                  \n",
      "__________________________________________________________________________________________________\n",
      "activation_85 (Activation)      (None, 25, 25, 32)   0           batch_normalization_85[0][0]     \n",
      "__________________________________________________________________________________________________\n",
      "conv2d_transpose_28 (Conv2DTran (None, 200, 200, 64) 2112        activation_85[0][0]              \n",
      "__________________________________________________________________________________________________\n",
      "add_28 (Add)                    (None, 200, 200, 64) 0           add_27[0][0]                     \n",
      "                                                                 conv2d_transpose_28[0][0]        \n",
      "__________________________________________________________________________________________________\n",
      "conv2d_58 (Conv2D)              (None, 200, 200, 7)  455         add_28[0][0]                     \n",
      "__________________________________________________________________________________________________\n",
      "activation_86 (Activation)      (None, 200, 200, 7)  0           conv2d_58[0][0]                  \n",
      "==================================================================================================\n",
      "Total params: 415,047\n",
      "Trainable params: 407,751\n",
      "Non-trainable params: 7,296\n",
      "__________________________________________________________________________________________________\n"
     ]
    }
   ],
   "source": [
    "model.compile(optimizer=adam, loss=weighted_categorical_crossentropy(np.array([1e-07, 0.45, 1.65, 1.75, 0.73, 0.77, 0.145])), metrics=[\"accuracy\"])\n",
    "model.summary()"
   ]
  },
  {
   "cell_type": "markdown",
   "metadata": {},
   "source": [
    "## Model training"
   ]
  },
  {
   "cell_type": "code",
   "execution_count": 22,
   "metadata": {
    "scrolled": true
   },
   "outputs": [
    {
     "name": "stdout",
     "output_type": "stream",
     "text": [
      "Train on 99 samples, validate on 11 samples\n",
      "Epoch 1/35\n",
      "99/99 [==============================] - 43s 438ms/step - loss: 0.9086 - acc: 0.1379 - val_loss: 0.7829 - val_acc: 0.1244\n",
      "Epoch 2/35\n",
      "99/99 [==============================] - 22s 219ms/step - loss: 0.7375 - acc: 0.1608 - val_loss: 0.7117 - val_acc: 0.1188\n",
      "Epoch 3/35\n",
      "99/99 [==============================] - 22s 219ms/step - loss: 0.6729 - acc: 0.1657 - val_loss: 0.6346 - val_acc: 0.1588\n",
      "Epoch 4/35\n",
      "99/99 [==============================] - 21s 217ms/step - loss: 0.6191 - acc: 0.1826 - val_loss: 0.5701 - val_acc: 0.1806\n",
      "Epoch 5/35\n",
      "99/99 [==============================] - 21s 217ms/step - loss: 0.5692 - acc: 0.1868 - val_loss: 0.5268 - val_acc: 0.2043\n",
      "Epoch 6/35\n",
      "99/99 [==============================] - 22s 217ms/step - loss: 0.5250 - acc: 0.1860 - val_loss: 0.4905 - val_acc: 0.1884\n",
      "Epoch 7/35\n",
      "99/99 [==============================] - 21s 216ms/step - loss: 0.4913 - acc: 0.1868 - val_loss: 0.4587 - val_acc: 0.1708\n",
      "Epoch 8/35\n",
      "99/99 [==============================] - 21s 217ms/step - loss: 0.4610 - acc: 0.1874 - val_loss: 0.4282 - val_acc: 0.1681\n",
      "Epoch 9/35\n",
      "99/99 [==============================] - 21s 217ms/step - loss: 0.4356 - acc: 0.1868 - val_loss: 0.4206 - val_acc: 0.2388\n",
      "Epoch 10/35\n",
      "99/99 [==============================] - 21s 216ms/step - loss: 0.4119 - acc: 0.1876 - val_loss: 0.4054 - val_acc: 0.1599\n",
      "Epoch 11/35\n",
      "99/99 [==============================] - 21s 217ms/step - loss: 0.3953 - acc: 0.1855 - val_loss: 0.3813 - val_acc: 0.2182\n",
      "Epoch 12/35\n",
      "99/99 [==============================] - 21s 217ms/step - loss: 0.3779 - acc: 0.1947 - val_loss: 0.3713 - val_acc: 0.1511\n",
      "Epoch 13/35\n",
      "99/99 [==============================] - 21s 216ms/step - loss: 0.3620 - acc: 0.2031 - val_loss: 0.3616 - val_acc: 0.1619\n",
      "Epoch 14/35\n",
      "99/99 [==============================] - 21s 217ms/step - loss: 0.3491 - acc: 0.2004 - val_loss: 0.3388 - val_acc: 0.2078\n",
      "Epoch 15/35\n",
      "99/99 [==============================] - 21s 215ms/step - loss: 0.3370 - acc: 0.1914 - val_loss: 0.3491 - val_acc: 0.2747\n",
      "Epoch 16/35\n",
      "99/99 [==============================] - 21s 217ms/step - loss: 0.3277 - acc: 0.1891 - val_loss: 0.3296 - val_acc: 0.1556\n",
      "Epoch 17/35\n",
      "99/99 [==============================] - 21s 217ms/step - loss: 0.3224 - acc: 0.1886 - val_loss: 0.3263 - val_acc: 0.1217\n",
      "Epoch 18/35\n",
      "99/99 [==============================] - 21s 217ms/step - loss: 0.3123 - acc: 0.1786 - val_loss: 0.3020 - val_acc: 0.1588\n",
      "Epoch 19/35\n",
      "99/99 [==============================] - 21s 216ms/step - loss: 0.3039 - acc: 0.1715 - val_loss: 0.2964 - val_acc: 0.1856\n",
      "Epoch 20/35\n",
      "99/99 [==============================] - 21s 216ms/step - loss: 0.2955 - acc: 0.1796 - val_loss: 0.3047 - val_acc: 0.1343\n",
      "Epoch 21/35\n",
      "99/99 [==============================] - 21s 217ms/step - loss: 0.2924 - acc: 0.1791 - val_loss: 0.2869 - val_acc: 0.1767\n",
      "Epoch 22/35\n",
      "99/99 [==============================] - 21s 217ms/step - loss: 0.2846 - acc: 0.1772 - val_loss: 0.2870 - val_acc: 0.1696\n",
      "Epoch 23/35\n",
      "99/99 [==============================] - 21s 217ms/step - loss: 0.2789 - acc: 0.1816 - val_loss: 0.2800 - val_acc: 0.2075\n",
      "Epoch 24/35\n",
      "99/99 [==============================] - 22s 218ms/step - loss: 0.2748 - acc: 0.1795 - val_loss: 0.2820 - val_acc: 0.1308\n",
      "Epoch 25/35\n",
      "99/99 [==============================] - 22s 217ms/step - loss: 0.2728 - acc: 0.1875 - val_loss: 0.2785 - val_acc: 0.1478\n",
      "Epoch 26/35\n",
      "99/99 [==============================] - 21s 217ms/step - loss: 0.2665 - acc: 0.1837 - val_loss: 0.2782 - val_acc: 0.1631\n",
      "Epoch 27/35\n",
      "99/99 [==============================] - 21s 217ms/step - loss: 0.2624 - acc: 0.1844 - val_loss: 0.2682 - val_acc: 0.1403\n",
      "Epoch 28/35\n",
      "99/99 [==============================] - 22s 217ms/step - loss: 0.2557 - acc: 0.1818 - val_loss: 0.2672 - val_acc: 0.1340\n",
      "Epoch 29/35\n",
      "99/99 [==============================] - 21s 217ms/step - loss: 0.2499 - acc: 0.1911 - val_loss: 0.2803 - val_acc: 0.1645\n",
      "Epoch 30/35\n",
      "99/99 [==============================] - 21s 217ms/step - loss: 0.2458 - acc: 0.1926 - val_loss: 0.2685 - val_acc: 0.1968\n",
      "Epoch 31/35\n",
      "99/99 [==============================] - 22s 218ms/step - loss: 0.2421 - acc: 0.1936 - val_loss: 0.2647 - val_acc: 0.1447\n",
      "Epoch 32/35\n",
      "99/99 [==============================] - 22s 218ms/step - loss: 0.2387 - acc: 0.1964 - val_loss: 0.2704 - val_acc: 0.1405\n",
      "Epoch 33/35\n",
      "99/99 [==============================] - 22s 218ms/step - loss: 0.2336 - acc: 0.2007 - val_loss: 0.2569 - val_acc: 0.1629\n",
      "Epoch 34/35\n",
      "99/99 [==============================] - 22s 217ms/step - loss: 0.2317 - acc: 0.2014 - val_loss: 0.2573 - val_acc: 0.1422\n",
      "Epoch 35/35\n",
      "99/99 [==============================] - 21s 217ms/step - loss: 0.2257 - acc: 0.2066 - val_loss: 0.2840 - val_acc: 0.1670\n",
      "{'val_loss': [0.7828752127560702, 0.7117100032893094, 0.6345823325894095, 0.5701167718930678, 0.5267590203068473, 0.4905041754245758, 0.4586549455469305, 0.42823556065559387, 0.42062172293663025, 0.4054066809740933, 0.38132923299616034, 0.37127441574226727, 0.36161383444612677, 0.3387658379294656, 0.3490870920094577, 0.32957151532173157, 0.32632410390810535, 0.30195422199639405, 0.29635612260211597, 0.30468179420991376, 0.286859700625593, 0.2870336649092761, 0.2799981358376416, 0.2819555103778839, 0.2784625115719708, 0.27821593392979016, 0.26820244978774677, 0.2671643983234059, 0.2802545218305154, 0.2685135548765009, 0.26473295349966397, 0.2703833749348467, 0.25688117810271005, 0.2572751207785173, 0.2839656296101483], 'val_acc': [0.12439317865805193, 0.11876818165183067, 0.1588090918958187, 0.1805500008843162, 0.20431363718076187, 0.18839545751159842, 0.1708045473152941, 0.16814545542001724, 0.23875908959995618, 0.15991818430748853, 0.21821591122583908, 0.1511136374690316, 0.16186363859610123, 0.20782727070830084, 0.2747227332808755, 0.15558863837610593, 0.12170227109031244, 0.1588181799108332, 0.18560454858974976, 0.13432954454963858, 0.1766886372457851, 0.16959090801802548, 0.20745681632648816, 0.13076818192547018, 0.14777727188034492, 0.16308636353774505, 0.1403136392208663, 0.13396590914238582, 0.16446818546815353, 0.1967840932986953, 0.1446727297522805, 0.1404545415531505, 0.1628909097476439, 0.14220908893780274, 0.16704545576464047], 'loss': [0.9086145403409245, 0.7375046857679733, 0.6728824828610276, 0.6191254896346969, 0.5692141218618914, 0.5250143607457479, 0.49133869945400893, 0.4609520697232449, 0.43562990396913853, 0.4118865195548896, 0.3953157431549496, 0.3779486896413745, 0.3619615206814776, 0.34913223108859975, 0.33697145003260986, 0.32769839029119474, 0.3223769532309638, 0.3122634460227658, 0.30388194954756537, 0.2955465813477834, 0.2924320592422678, 0.284617666945313, 0.27886023891694617, 0.2748366344456721, 0.27279200111374713, 0.26646088605577295, 0.2624263311877395, 0.25565133717927063, 0.2498687698383524, 0.2458361956958819, 0.2420875219383625, 0.2386501743034883, 0.23359245528476408, 0.2316669561345168, 0.2257022786923129], 'acc': [0.1379409096758775, 0.16078737423275458, 0.16565429283813995, 0.1826131311480445, 0.18677853514449766, 0.18603383832507664, 0.18683080774064015, 0.18743156634195887, 0.18681414207123748, 0.18755378830011446, 0.18549621221844595, 0.19470075818926397, 0.20306489842407632, 0.2003757588640608, 0.19141818191668, 0.18910075897219206, 0.1886161614698593, 0.1786358571714825, 0.17146136400976567, 0.17964823201599747, 0.17913181831439337, 0.17723787816787007, 0.18156111003323036, 0.17954671781773518, 0.18745151568542828, 0.18373383679474242, 0.18440656552110055, 0.18175808075025227, 0.19114091010256248, 0.19258383774396146, 0.19355707058701851, 0.196419949709165, 0.20071363580798862, 0.2014214645205724, 0.20660151556284742]}\n"
     ]
    }
   ],
   "source": [
    "his = model.fit(inputs, outputs, epochs=35, batch_size=2, verbose=1, shuffle=True, validation_split=0.1)\n",
    "print(his.history)"
   ]
  },
  {
   "cell_type": "code",
   "execution_count": 31,
   "metadata": {},
   "outputs": [],
   "source": [
    "model.save(\"tester_28_lxl.h5\")"
   ]
  },
  {
   "cell_type": "code",
   "execution_count": 24,
   "metadata": {},
   "outputs": [
    {
     "data": {
      "image/png": "[encoded data removed]",
      "text/plain": [
       "<Figure size 432x288 with 1 Axes>"
      ]
     },
     "metadata": {
      "needs_background": "light"
     },
     "output_type": "display_data"
    }
   ],
   "source": [
    "plt.figure()\n",
    "\n",
    "plt.plot(his.history[\"loss\"])\n",
    "plt.plot(his.history[\"val_loss\"])\n",
    "plt.legend([\"loss\", \"val_loss\"], loc=\"lower left\")\n",
    "plt.show()"
   ]
  },
  {
   "cell_type": "markdown",
   "metadata": {},
   "source": [
    "## Check the model has learned something"
   ]
  },
  {
   "cell_type": "code",
   "execution_count": 22,
   "metadata": {},
   "outputs": [],
   "source": [
    "i,k = 0, 5\n",
    "sample_pred = model.predict([inputs[i:i+k]])"
   ]
  },
  {
   "cell_type": "code",
   "execution_count": 23,
   "metadata": {},
   "outputs": [],
   "source": [
    "preds4 = np.argmax(sample_pred, axis=3)\n",
    "preds4[preds4==0] = 6 # Change trash class by class for long distance"
   ]
  },
  {
   "cell_type": "code",
   "execution_count": 24,
   "metadata": {},
   "outputs": [],
   "source": [
    "outs4 = np.argmax(outputs[i:i+k], axis=3)\n",
    "outs4[outs4==0] = 6 # Change trash class by class for long distance"
   ]
  },
  {
   "cell_type": "code",
   "execution_count": 28,
   "metadata": {},
   "outputs": [
    {
     "name": "stdout",
     "output_type": "stream",
     "text": [
      "Best score (Accuracy):  0.7231656971289172\n",
      "Best 5 scores:  [0.7231656971289172, 0.6046161015323045, 0.5965199286139203, 0.584593572778828, 0.5182222222222223]\n",
      "Best 5 indices:  [1, 0, 2, 4, 3]\n",
      "Index of best score:  1\n"
     ]
    }
   ],
   "source": [
    "# Select the best prediction to display it - (proportional by protein length(area of contact map))\n",
    "results = [np.sum(np.equal(pred[:len(seqs[i+j]), :len(seqs[i+j])], outs4[j, :len(seqs[i+j]), :len(seqs[i+j]),]),axis=(0,1))/\n",
    "           len(seqs[i+j])**2 \n",
    "           for j,pred in enumerate(preds4)]\n",
    "best_score = max(results)\n",
    "print(\"Best score (Accuracy): \", best_score)\n",
    "sorted_scores = [acc for acc in sorted(results, key=lambda x: x, reverse=True)]\n",
    "print(\"Best 5 scores: \", sorted_scores[:5])\n",
    "print(\"Best 5 indices: \", [results.index(x) for x in sorted_scores[:5]])\n",
    "best_score_index = results.index(best_score)\n",
    "print(\"Index of best score: \", best_score_index)  "
   ]
  },
  {
   "cell_type": "code",
   "execution_count": 26,
   "metadata": {},
   "outputs": [],
   "source": [
    "# best_score_index = results.index(0.6597390187822867)\n",
    "# print(best_score_index)\n",
    "best_score_index = 1\n",
    "i=0"
   ]
  },
  {
   "cell_type": "code",
   "execution_count": 27,
   "metadata": {},
   "outputs": [
    {
     "data": {
      "image/png": "[encoded data removed]",
      "text/plain": [
       "<Figure size 432x288 with 2 Axes>"
      ]
     },
     "metadata": {
      "needs_background": "light"
     },
     "output_type": "display_data"
    },
    {
     "data": {
      "image/png": "[encoded data removed]",
      "text/plain": [
       "<Figure size 432x288 with 2 Axes>"
      ]
     },
     "metadata": {
      "needs_background": "light"
     },
     "output_type": "display_data"
    }
   ],
   "source": [
    "plt.title('Ground Truth')\n",
    "plt.imshow(outs4[best_score_index, :len(seqs[i+best_score_index]), :len(seqs[i+best_score_index])],\n",
    "           cmap='viridis_r', interpolation='nearest')\n",
    "plt.colorbar()\n",
    "plt.show()\n",
    "\n",
    "# Then plot predictions by the model - v2\n",
    "plt.title(\"Prediction by model\")\n",
    "plt.imshow(preds4[best_score_index, :len(seqs[i+best_score_index]), :len(seqs[i+best_score_index])],\n",
    "           cmap='viridis_r', interpolation='nearest')\n",
    "plt.colorbar()\n",
    "plt.show()"
   ]
  },
  {
   "cell_type": "code",
   "execution_count": 33,
   "metadata": {},
   "outputs": [],
   "source": [
    "# model.save(\"elu_resnet_2d_distance_valacc_0_59_acc.h5\")"
   ]
  },
  {
   "cell_type": "code",
   "execution_count": 28,
   "metadata": {},
   "outputs": [],
   "source": [
    "# Done!\n",
    "from sklearn.metrics import confusion_matrix\n",
    "from sklearn.utils.multiclass import unique_labels"
   ]
  },
  {
   "cell_type": "code",
   "execution_count": 29,
   "metadata": {},
   "outputs": [],
   "source": [
    "preds_crop = np.concatenate( [pred[:len(seqs[i+j]), :len(seqs[i+j])].flatten() for j,pred in enumerate(preds4)] )\n",
    "outs_crop = np.concatenate( [outs4[j, :len(seqs[i+j]), :len(seqs[i+j])].flatten() for j,pred in enumerate(preds4)] )"
   ]
  },
  {
   "cell_type": "code",
   "execution_count": 36,
   "metadata": {},
   "outputs": [
    {
     "name": "stdout",
     "output_type": "stream",
     "text": [
      "Normalized confusion matrix\n",
      "Introducing total mse:  295.94931998570297\n",
      "Introducing mse/prot:  59.18986399714059\n"
     ]
    },
    {
     "data": {
      "image/png": "[encoded data removed]",
      "text/plain": [
       "<Figure size 432x288 with 2 Axes>"
      ]
     },
     "metadata": {
      "needs_background": "light"
     },
     "output_type": "display_data"
    }
   ],
   "source": [
    "matrix = cm = confusion_matrix(outs_crop, preds_crop)\n",
    "\n",
    "classes = [i+1 for i in range(7)]\n",
    "title = \"Comfusion matrix\"\n",
    "cmap = \"coolwarm\"\n",
    "normalize = True\n",
    "\n",
    "if normalize:\n",
    "    cm = cm.astype('float') / cm.sum(axis=1)[:, np.newaxis]\n",
    "    print(\"Normalized confusion matrix\")\n",
    "else:\n",
    "    print('Confusion matrix, without normalization')\n",
    "\n",
    "# print(cm)\n",
    "\n",
    "fig, ax = plt.subplots()\n",
    "im = ax.imshow(cm, interpolation='nearest', cmap=cmap)\n",
    "ax.figure.colorbar(im, ax=ax)\n",
    "# We want to show all ticks...\n",
    "ax.set(xticks=np.arange(cm.shape[1]),\n",
    "       yticks=np.arange(cm.shape[0]),\n",
    "       # ... and label them with the respective list entries\n",
    "       xticklabels=classes, yticklabels=classes,\n",
    "       title=title,\n",
    "       ylabel='True label',\n",
    "       xlabel='Predicted label')\n",
    "\n",
    "# Rotate the tick labels and set their alignment.\n",
    "plt.setp(ax.get_xticklabels(), rotation=45, ha=\"right\",\n",
    "         rotation_mode=\"anchor\")\n",
    "\n",
    "# Loop over data dimensions and create text annotations.\n",
    "fmt = '.2f' if normalize else 'd'\n",
    "thresh = cm.max() / 2.\n",
    "for i in range(cm.shape[0]):\n",
    "    for j in range(cm.shape[1]):\n",
    "        ax.text(j, i, format(cm[i, j], fmt),\n",
    "                ha=\"center\", va=\"center\",\n",
    "                color=\"white\" if cm[i, j] > thresh else \"black\")\n",
    "fig.tight_layout()\n",
    "\n",
    "print(\"Introducing total mse: \", np.linalg.norm(outs_crop-preds_crop))\n",
    "print(\"Introducing mse/prot: \", np.linalg.norm(outs_crop-preds_crop)/len(preds4))"
   ]
  },
  {
   "cell_type": "code",
   "execution_count": 37,
   "metadata": {},
   "outputs": [
    {
     "name": "stdout",
     "output_type": "stream",
     "text": [
      "Normalized confusion matrix\n",
      "Introducing total mse:  386.3405233728401\n",
      "Introducing mse/prot:  77.26810467456802\n"
     ]
    },
    {
     "data": {
      "image/png": "[encoded data removed]",
      "text/plain": [
       "<Figure size 432x288 with 2 Axes>"
      ]
     },
     "metadata": {
      "needs_background": "light"
     },
     "output_type": "display_data"
    }
   ],
   "source": [
    "# old model with pssm only in the central line"
   ]
  },
  {
   "cell_type": "markdown",
   "metadata": {},
   "source": [
    "## Done! Let's continue training the model with the whole data!"
   ]
  }
 ],
 "metadata": {
  "kernelspec": {
   "display_name": "Python 3",
   "language": "python",
   "name": "python3"
  },
  "language_info": {
   "codemirror_mode": {
    "name": "ipython",
    "version": 3
   },
   "file_extension": ".py",
   "mimetype": "text/x-python",
   "name": "python",
   "nbconvert_exporter": "python",
   "pygments_lexer": "ipython3",
   "version": "3.6.7"
  }
 },
 "nbformat": 4,
 "nbformat_minor": 2
}
